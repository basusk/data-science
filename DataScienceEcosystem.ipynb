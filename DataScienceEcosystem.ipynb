{
 "cells": [
  {
   "cell_type": "markdown",
   "id": "fab19442-5e36-4f6c-a991-f3c1440111ef",
   "metadata": {},
   "source": [
    "# Data Science Tools and Ecosystem "
   ]
  },
  {
   "cell_type": "markdown",
   "id": "2fb86da6-290a-47a6-8183-39bc1cddca26",
   "metadata": {},
   "source": [
    "### In this notebook, Data Science Tools and Ecosystem are summarized."
   ]
  },
  {
   "cell_type": "markdown",
   "id": "8887f66e-991b-4f23-9451-0de751e6a811",
   "metadata": {},
   "source": [
    "In this notebook, Data Science Tools and Ecosystem are summarized."
   ]
  },
  {
   "attachments": {},
   "cell_type": "markdown",
   "id": "77f786e9-e0a8-4e6e-99cc-1e61e0bfeb8f",
   "metadata": {},
   "source": [
    "### Some of the commonly used libraries used by Data Scientists include:\n",
    "1. NumPy\n",
    "2. pandas\n",
    "3. matplotlib\n",
    "4. scikit"
   ]
  },
  {
   "cell_type": "code",
   "execution_count": null,
   "id": "39a41984-28d5-4d6b-95a6-b1afa7bb8feb",
   "metadata": {},
   "outputs": [],
   "source": []
  },
  {
   "cell_type": "markdown",
   "id": "e1f28fd5-2751-4eaf-8bdd-10b817755806",
   "metadata": {},
   "source": [
    "Data Science Tools|\n",
    "------------------\n",
    "    Jupyter Notebook\n",
    "    RStudio\n",
    "    Spark"
   ]
  },
  {
   "cell_type": "markdown",
   "id": "a555f82e-a680-42cb-aab0-73c257e54f41",
   "metadata": {},
   "source": [
    "### Below are a few examples of evaluating arithmetic expressions in Python\n"
   ]
  },
  {
   "cell_type": "code",
   "execution_count": 4,
   "id": "fd5566fb-fc65-47e8-962e-2d036c1493e4",
   "metadata": {},
   "outputs": [
    {
     "data": {
      "text/plain": [
       "7"
      ]
     },
     "execution_count": 4,
     "metadata": {},
     "output_type": "execute_result"
    }
   ],
   "source": [
    "2+5"
   ]
  },
  {
   "cell_type": "code",
   "execution_count": 5,
   "id": "a8f59f3e-0ade-46a7-91b4-98ab38081dd0",
   "metadata": {},
   "outputs": [
    {
     "data": {
      "text/plain": [
       "10"
      ]
     },
     "execution_count": 5,
     "metadata": {},
     "output_type": "execute_result"
    }
   ],
   "source": [
    "2*5"
   ]
  },
  {
   "cell_type": "code",
   "execution_count": 6,
   "id": "c86d441c-0d0c-4bd6-ace1-6a6aafae3b97",
   "metadata": {},
   "outputs": [
    {
     "data": {
      "text/plain": [
       "0.4"
      ]
     },
     "execution_count": 6,
     "metadata": {},
     "output_type": "execute_result"
    }
   ],
   "source": [
    "2/5"
   ]
  },
  {
   "cell_type": "markdown",
   "id": "c48fe123-85f1-4815-a74a-11b3651c2e8f",
   "metadata": {},
   "source": [
    "### This a simple arithmetic expression to mutiply then add integers."
   ]
  },
  {
   "cell_type": "code",
   "execution_count": 8,
   "id": "288d60b9-de00-4fcc-a4f5-55f5388a4975",
   "metadata": {},
   "outputs": [
    {
     "data": {
      "text/plain": [
       "17"
      ]
     },
     "execution_count": 8,
     "metadata": {},
     "output_type": "execute_result"
    }
   ],
   "source": [
    "(3*4)+5"
   ]
  },
  {
   "cell_type": "markdown",
   "id": "c259c311-c2d7-4d99-9ac0-2b04f3944b03",
   "metadata": {},
   "source": [
    "### This will convert 200 minutes to hours by diving by 60"
   ]
  },
  {
   "cell_type": "code",
   "execution_count": 9,
   "id": "effeefe7-eeb1-4371-b309-f68db57e9bbb",
   "metadata": {},
   "outputs": [
    {
     "data": {
      "text/plain": [
       "3.3333333333333335"
      ]
     },
     "execution_count": 9,
     "metadata": {},
     "output_type": "execute_result"
    }
   ],
   "source": [
    "200/60"
   ]
  },
  {
   "cell_type": "markdown",
   "id": "18af38df-f04c-45ad-b217-81b8bb69b78b",
   "metadata": {},
   "source": [
    "___Objectives Covered___\n",
    "- Taught DS Languages\n",
    "- Taught DS Open source and commercial tools\n",
    "- Taught how to use Jupyter notebook and RStudio"
   ]
  },
  {
   "cell_type": "markdown",
   "id": "d7585a0d-c2bb-4b79-aa21-a0103e61a223",
   "metadata": {},
   "source": [
    "## Author\n",
    "saikat basu"
   ]
  },
  {
   "cell_type": "code",
   "execution_count": null,
   "id": "1900eae1-f331-4d2f-842d-f80512dfe14a",
   "metadata": {},
   "outputs": [],
   "source": []
  }
 ],
 "metadata": {
  "kernelspec": {
   "display_name": "Python 3 (ipykernel)",
   "language": "python",
   "name": "python3"
  },
  "language_info": {
   "codemirror_mode": {
    "name": "ipython",
    "version": 3
   },
   "file_extension": ".py",
   "mimetype": "text/x-python",
   "name": "python",
   "nbconvert_exporter": "python",
   "pygments_lexer": "ipython3",
   "version": "3.12.2"
  }
 },
 "nbformat": 4,
 "nbformat_minor": 5
}
